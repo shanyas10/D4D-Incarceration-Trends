{
 "cells": [
  {
   "cell_type": "code",
   "execution_count": 140,
   "metadata": {},
   "outputs": [],
   "source": [
    "import pandas as pd\n",
    "import numpy as np\n",
    "from matplotlib import pyplot as plt"
   ]
  },
  {
   "cell_type": "code",
   "execution_count": 141,
   "metadata": {},
   "outputs": [],
   "source": [
    "data = pd.read_csv('data.csv')"
   ]
  },
  {
   "cell_type": "code",
   "execution_count": 142,
   "metadata": {},
   "outputs": [],
   "source": [
    "data = data.fillna(0)"
   ]
  },
  {
   "cell_type": "code",
   "execution_count": 143,
   "metadata": {},
   "outputs": [],
   "source": [
    "#Segregating on basis of offence\n",
    "misd = data.loc[data.off_type == \"Misdemeanor\"]\n",
    "fel  = data.loc[data.off_type == \"Felony\"]"
   ]
  },
  {
   "cell_type": "code",
   "execution_count": 144,
   "metadata": {},
   "outputs": [],
   "source": [
    "# Segregating on basis of year\n",
    "misd_2014 = misd.loc[misd.year == 2014]\n",
    "misd_2015 = misd.loc[misd.year == 2015]\n",
    "misd_2016 = misd.loc[misd.year == 2016]"
   ]
  },
  {
   "cell_type": "code",
   "execution_count": 138,
   "metadata": {},
   "outputs": [
    {
     "data": {
      "text/plain": [
       "Index(['fips', 'year', 'county', 'Unnamed: 3', 'money_bond_freq',\n",
       "       'pr_bond_freq', 'total_bond_freq', 'off_type', 'money_posted',\n",
       "       'money_bond_new_no', 'money_new_yes', 'pr_posted', 'pr_new_no',\n",
       "       'pr_new_yes', 'total_new_yes', 'total_posted', 'norm',\n",
       "       'normalized_mon_yes', 'normalized_pr_yes', 'normalized_pr_no',\n",
       "       'normalized_mon_no', 'jud_district', 'medianHI', 'medianHI_MOE',\n",
       "       'povertyR'],\n",
       "      dtype='object')"
      ]
     },
     "execution_count": 138,
     "metadata": {},
     "output_type": "execute_result"
    }
   ],
   "source": [
    "misd_2014.columns"
   ]
  },
  {
   "cell_type": "code",
   "execution_count": 105,
   "metadata": {},
   "outputs": [],
   "source": [
    "misd_2014 = misd_2014[['county', 'normalized_mon_yes', 'normalized_mon_no', 'normalized_pr_yes', 'normalized_pr_no', 'total_posted', 'total_new_yes', 'norm']]"
   ]
  },
  {
   "cell_type": "code",
   "execution_count": 130,
   "metadata": {},
   "outputs": [
    {
     "data": {
      "text/html": [
       "<iframe id=\"igraph\" scrolling=\"no\" style=\"border:none;\" seamless=\"seamless\" src=\"https://plot.ly/~thechange/50.embed\" height=\"525px\" width=\"100%\"></iframe>"
      ],
      "text/plain": [
       "<plotly.tools.PlotlyDisplay object>"
      ]
     },
     "execution_count": 130,
     "metadata": {},
     "output_type": "execute_result"
    }
   ],
   "source": [
    "data = [trace100]\n",
    "layout = go.Layout(\n",
    "    barmode='group',\n",
    "    title='Number of Money Bonds Posted',\n",
    "    xaxis=dict(\n",
    "        title='Poverty Rate',\n",
    "        titlefont=dict(\n",
    "            family='Courier New, monospace',\n",
    "            size=18,\n",
    "            color='#7f7f7f'\n",
    "        )\n",
    "    ),\n",
    "    yaxis=dict(\n",
    "        title='Number of Money Bonds Posted',\n",
    "        titlefont=dict(\n",
    "            family='Courier New, monospace',\n",
    "            size=18,\n",
    "            color='#7f7f7f'\n",
    "        )\n",
    "    )\n",
    ")\n",
    "\n",
    "fig1 = go.Figure(data=data, layout=layout)\n",
    "py.iplot(fig1, filename='Poverty14')"
   ]
  },
  {
   "cell_type": "code",
   "execution_count": 107,
   "metadata": {
    "scrolled": true
   },
   "outputs": [],
   "source": [
    "import plotly.plotly as py\n",
    "import plotly.graph_objs as go\n",
    "\n",
    "trace1 = go.Bar(\n",
    "    x=misd_2014['county'],\n",
    "    y=misd_2014['normalized_mon_yes'],\n",
    "    name='Money Bond 2014'\n",
    ")\n",
    "trace2 = go.Bar(\n",
    "    x=misd_2014['county'],\n",
    "    y=misd_2014['normalized_pr_yes'],\n",
    "    name='PR Bond 2014'\n",
    ")\n",
    "trace3 = go.Bar(\n",
    "    x=misd_2015['county'],\n",
    "    y=misd_2015['normalized_mon_yes'],\n",
    "    name='Money Bond 2015'\n",
    ")\n",
    "trace4 = go.Bar(\n",
    "    x=misd_2015['county'],\n",
    "    y=misd_2015['normalized_pr_yes'],\n",
    "    name='PR Bond 2015'\n",
    ")\n",
    "trace5 = go.Bar(\n",
    "    x=misd_2016['county'],\n",
    "    y=misd_2016['normalized_mon_yes'],\n",
    "    name='Money Bond 2016'\n",
    ")\n",
    "trace6 = go.Bar(\n",
    "    x=misd_2016['county'],\n",
    "    y=misd_2016['normalized_pr_yes'],\n",
    "    name='PR Bond 2016'\n",
    ")\n",
    "trace7 = go.Bar(\n",
    "    x=misd_2014['county'],\n",
    "    y=misd_2014['norm'],\n",
    "    name='Recomitted Crimes in 2014'\n",
    ")\n",
    "trace8 = go.Bar(\n",
    "    x=misd_2015['county'],\n",
    "    y=misd_2015['norm'],\n",
    "    name='Recomitted Crimes in 2015'\n",
    ")\n",
    "trace9 = go.Bar(\n",
    "    x=misd_2016['county'],\n",
    "    y=misd_2016['norm'],\n",
    "    name='Recomitted Crimes in 2016'\n",
    ")\n",
    "\n",
    "\n"
   ]
  },
  {
   "cell_type": "markdown",
   "metadata": {},
   "source": [
    "Here's a plot of % of people charged for a crime who were accused of recommitting crimes after being release on bail"
   ]
  },
  {
   "cell_type": "code",
   "execution_count": 108,
   "metadata": {},
   "outputs": [
    {
     "data": {
      "text/html": [
       "<iframe id=\"igraph\" scrolling=\"no\" style=\"border:none;\" seamless=\"seamless\" src=\"https://plot.ly/~thechange/42.embed\" height=\"525px\" width=\"100%\"></iframe>"
      ],
      "text/plain": [
       "<plotly.tools.PlotlyDisplay object>"
      ]
     },
     "execution_count": 108,
     "metadata": {},
     "output_type": "execute_result"
    }
   ],
   "source": [
    "data = [trace7, trace8, trace9]\n",
    "layout = go.Layout(\n",
    "    barmode='group',\n",
    "    title='Recomitted Crimes (Year Wise Comparison)',\n",
    "    xaxis=dict(\n",
    "        title='Counties',\n",
    "        titlefont=dict(\n",
    "            family='Courier New, monospace',\n",
    "            size=18,\n",
    "            color='#7f7f7f'\n",
    "        )\n",
    "    ),\n",
    "    yaxis=dict(\n",
    "        title='% Misdemeanour Crime Recommit Count',\n",
    "        titlefont=dict(\n",
    "            family='Courier New, monospace',\n",
    "            size=18,\n",
    "            color='#7f7f7f'\n",
    "        )\n",
    "    )\n",
    ")\n",
    "\n",
    "fig1 = go.Figure(data=data, layout=layout)\n",
    "py.iplot(fig1, filename='N14')"
   ]
  },
  {
   "cell_type": "code",
   "execution_count": 47,
   "metadata": {},
   "outputs": [
    {
     "data": {
      "text/html": [
       "<iframe id=\"igraph\" scrolling=\"no\" style=\"border:none;\" seamless=\"seamless\" src=\"https://plot.ly/~thechange/44.embed\" height=\"525px\" width=\"100%\"></iframe>"
      ],
      "text/plain": [
       "<plotly.tools.PlotlyDisplay object>"
      ]
     },
     "execution_count": 47,
     "metadata": {},
     "output_type": "execute_result"
    }
   ],
   "source": [
    "data = [trace7, trace8, trace9]\n",
    "layout = go.Layout(\n",
    "    barmode='group',\n",
    "    title='Recomitted Crimes (Year Wise Comparison)',\n",
    "    xaxis=dict(\n",
    "        title='Counties',\n",
    "        titlefont=dict(\n",
    "            family='Courier New, monospace',\n",
    "            size=18,\n",
    "            color='#7f7f7f'\n",
    "        )\n",
    "    ),\n",
    "    yaxis=dict(\n",
    "        title='% Felony Crime Recommit Count',\n",
    "        titlefont=dict(\n",
    "            family='Courier New, monospace',\n",
    "            size=18,\n",
    "            color='#7f7f7f'\n",
    "        )\n",
    "    )\n",
    ")\n",
    "\n",
    "fig1 = go.Figure(data=data, layout=layout)\n",
    "py.iplot(fig1, filename='NF14')"
   ]
  },
  {
   "cell_type": "markdown",
   "metadata": {},
   "source": [
    "As can be seen in the plot, the rate of recommits is only increasing by the year in most counties( e.g. Montrose, Archuleta) and is also more than 10% on an average. But that is not it, on a comparision, it was seen that the rate of recommits for felony was much higher that that for misdemeanor. The numbers tell that on an average the number of felony recommints in a county like Denver and El Paso was close to 600, which means around 50 recommits per month."
   ]
  },
  {
   "cell_type": "markdown",
   "metadata": {},
   "source": [
    "Let's now dig deeper and find out what kind of bonds was the release based on"
   ]
  },
  {
   "cell_type": "markdown",
   "metadata": {},
   "source": [
    "Below is a comparison of number of recommits when the bail was given on Money bond vs that when it involved a PR bond"
   ]
  },
  {
   "cell_type": "code",
   "execution_count": 109,
   "metadata": {},
   "outputs": [
    {
     "data": {
      "text/html": [
       "<iframe id=\"igraph\" scrolling=\"no\" style=\"border:none;\" seamless=\"seamless\" src=\"https://plot.ly/~thechange/46.embed\" height=\"525px\" width=\"100%\"></iframe>"
      ],
      "text/plain": [
       "<plotly.tools.PlotlyDisplay object>"
      ]
     },
     "execution_count": 109,
     "metadata": {},
     "output_type": "execute_result"
    }
   ],
   "source": [
    "data = [trace1, trace2]\n",
    "layout = go.Layout(\n",
    "    barmode='group',\n",
    "    title='Money Bond vs PR Bond 2014',\n",
    "    xaxis=dict(\n",
    "        title='Counties',\n",
    "        titlefont=dict(\n",
    "            family='Courier New, monospace',\n",
    "            size=18,\n",
    "            color='#7f7f7f'\n",
    "        )\n",
    "    ),\n",
    "    yaxis=dict(\n",
    "        title='% Crime Recommit Count',\n",
    "        titlefont=dict(\n",
    "            family='Courier New, monospace',\n",
    "            size=18,\n",
    "            color='#7f7f7f'\n",
    "        )\n",
    "    )\n",
    ")\n",
    "\n",
    "fig1 = go.Figure(data=data, layout=layout)\n",
    "py.iplot(fig1, filename='MP14')"
   ]
  },
  {
   "cell_type": "markdown",
   "metadata": {},
   "source": [
    "It's clear from the plot that most counties record more recommits on Money bond than that in PR bond."
   ]
  },
  {
   "cell_type": "code",
   "execution_count": 110,
   "metadata": {},
   "outputs": [
    {
     "data": {
      "text/html": [
       "<iframe id=\"igraph\" scrolling=\"no\" style=\"border:none;\" seamless=\"seamless\" src=\"https://plot.ly/~thechange/48.embed\" height=\"525px\" width=\"100%\"></iframe>"
      ],
      "text/plain": [
       "<plotly.tools.PlotlyDisplay object>"
      ]
     },
     "execution_count": 110,
     "metadata": {},
     "output_type": "execute_result"
    }
   ],
   "source": [
    "data = [trace1, trace2]\n",
    "layout = go.Layout(\n",
    "    barmode='group',\n",
    "    title='Money Bond vs PR Bond 2014',\n",
    "    xaxis=dict(\n",
    "        title='Counties',\n",
    "        titlefont=dict(\n",
    "            family='Courier New, monospace',\n",
    "            size=18,\n",
    "            color='#7f7f7f'\n",
    "        )\n",
    "    ),\n",
    "    yaxis=dict(\n",
    "        title='% Crime Recommit Count',\n",
    "        titlefont=dict(\n",
    "            family='Courier New, monospace',\n",
    "            size=18,\n",
    "            color='#7f7f7f'\n",
    "        )\n",
    "    )\n",
    ")\n",
    "\n",
    "fig1 = go.Figure(data=data, layout=layout)\n",
    "py.iplot(fig1, filename='PMP14')"
   ]
  },
  {
   "cell_type": "code",
   "execution_count": 85,
   "metadata": {},
   "outputs": [
    {
     "data": {
      "text/html": [
       "<iframe id=\"igraph\" scrolling=\"no\" style=\"border:none;\" seamless=\"seamless\" src=\"https://plot.ly/~thechange/10.embed\" height=\"525px\" width=\"100%\"></iframe>"
      ],
      "text/plain": [
       "<plotly.tools.PlotlyDisplay object>"
      ]
     },
     "execution_count": 85,
     "metadata": {},
     "output_type": "execute_result"
    }
   ],
   "source": [
    "data = [trace3, trace4]\n",
    "layout = go.Layout(\n",
    "    barmode='group',\n",
    "    title='Money Bond vs PR Bond 2015',\n",
    "    xaxis=dict(\n",
    "        title='Counties',\n",
    "        titlefont=dict(\n",
    "            family='Courier New, monospace',\n",
    "            size=18,\n",
    "            color='#7f7f7f'\n",
    "        )\n",
    "    ),\n",
    "    yaxis=dict(\n",
    "        title='% Crime Recommit Count',\n",
    "        titlefont=dict(\n",
    "            family='Courier New, monospace',\n",
    "            size=18,\n",
    "            color='#7f7f7f'\n",
    "        )\n",
    "    )\n",
    ")\n",
    "fig1 = go.Figure(data=data, layout=layout)\n",
    "py.iplot(fig1, filename='MP15')"
   ]
  },
  {
   "cell_type": "code",
   "execution_count": 13,
   "metadata": {},
   "outputs": [],
   "source": [
    "import plotly\n",
    "import plotly.graph_objs as go\n",
    "\n",
    "plotly.tools.set_credentials_file(username='<user>', api_key='<key>')\n",
    "\n"
   ]
  },
  {
   "cell_type": "code",
   "execution_count": 111,
   "metadata": {},
   "outputs": [
    {
     "data": {
      "text/html": [
       "<iframe id=\"igraph\" scrolling=\"no\" style=\"border:none;\" seamless=\"seamless\" src=\"https://plot.ly/~thechange/12.embed\" height=\"525px\" width=\"100%\"></iframe>"
      ],
      "text/plain": [
       "<plotly.tools.PlotlyDisplay object>"
      ]
     },
     "execution_count": 111,
     "metadata": {},
     "output_type": "execute_result"
    }
   ],
   "source": [
    "data = [trace5, trace6]\n",
    "layout = go.Layout(\n",
    "    barmode='group',\n",
    "    title='Money Bond vs PR Bond 2016',\n",
    "    xaxis=dict(\n",
    "        title='Counties',\n",
    "        titlefont=dict(\n",
    "            family='Courier New, monospace',\n",
    "            size=18,\n",
    "            color='#7f7f7f'\n",
    "        )\n",
    "    ),\n",
    "    yaxis=dict(\n",
    "        title='% Crime Recommit Count',\n",
    "        titlefont=dict(\n",
    "            family='Courier New, monospace',\n",
    "            size=18,\n",
    "            color='#7f7f7f'\n",
    "        )\n",
    "    )\n",
    ")\n",
    "\n",
    "fig1 = go.Figure(data=data, layout=layout)\n",
    "py.iplot(fig1, filename='MP16')"
   ]
  },
  {
   "cell_type": "code",
   "execution_count": 87,
   "metadata": {},
   "outputs": [
    {
     "data": {
      "text/html": [
       "<iframe id=\"igraph\" scrolling=\"no\" style=\"border:none;\" seamless=\"seamless\" src=\"https://plot.ly/~thechange/14.embed\" height=\"525px\" width=\"100%\"></iframe>"
      ],
      "text/plain": [
       "<plotly.tools.PlotlyDisplay object>"
      ]
     },
     "execution_count": 87,
     "metadata": {},
     "output_type": "execute_result"
    }
   ],
   "source": [
    "data = [trace1, trace3, trace5]\n",
    "layout = go.Layout(\n",
    "    barmode='group',\n",
    "    title='Money Bond comparision',\n",
    "    xaxis=dict(\n",
    "        title='Counties',\n",
    "        titlefont=dict(\n",
    "            family='Courier New, monospace',\n",
    "            size=18,\n",
    "            color='#7f7f7f'\n",
    "        )\n",
    "    ),\n",
    "    yaxis=dict(\n",
    "        title='% Crime Recommit Count',\n",
    "        titlefont=dict(\n",
    "            family='Courier New, monospace',\n",
    "            size=18,\n",
    "            color='#7f7f7f'\n",
    "        )\n",
    "    )\n",
    ")\n",
    "fig1 = go.Figure(data=data, layout=layout)\n",
    "py.iplot(fig1, filename='M456')"
   ]
  },
  {
   "cell_type": "code",
   "execution_count": 88,
   "metadata": {},
   "outputs": [
    {
     "data": {
      "text/html": [
       "<iframe id=\"igraph\" scrolling=\"no\" style=\"border:none;\" seamless=\"seamless\" src=\"https://plot.ly/~thechange/16.embed\" height=\"525px\" width=\"100%\"></iframe>"
      ],
      "text/plain": [
       "<plotly.tools.PlotlyDisplay object>"
      ]
     },
     "execution_count": 88,
     "metadata": {},
     "output_type": "execute_result"
    }
   ],
   "source": [
    "data = [trace2, trace4, trace6]\n",
    "layout = go.Layout(\n",
    "    barmode='group',\n",
    "    title='PR Bond comparision',\n",
    "    xaxis=dict(\n",
    "        title='Counties',\n",
    "        titlefont=dict(\n",
    "            family='Courier New, monospace',\n",
    "            size=18,\n",
    "            color='#7f7f7f'\n",
    "        )\n",
    "    ),\n",
    "    yaxis=dict(\n",
    "        title='% Crime Recommit Count',\n",
    "        titlefont=dict(\n",
    "            family='Courier New, monospace',\n",
    "            size=18,\n",
    "            color='#7f7f7f'\n",
    "        )\n",
    "    )\n",
    ")\n",
    "\n",
    "fig1 = go.Figure(data=data, layout=layout)\n",
    "py.iplot(fig1, filename='P456')"
   ]
  },
  {
   "cell_type": "code",
   "execution_count": 112,
   "metadata": {},
   "outputs": [],
   "source": [
    "# Segregating on basis of year\n",
    "fel_2014 = fel.loc[fel.year == 2014]\n",
    "fel_2015 = fel.loc[fel.year == 2015]\n",
    "fel_2016 = fel.loc[fel.year == 2016]"
   ]
  },
  {
   "cell_type": "code",
   "execution_count": 113,
   "metadata": {},
   "outputs": [],
   "source": [
    "fel_2014 = fel_2014[['county', 'normalized_mon_yes', 'normalized_mon_no', 'normalized_pr_yes', 'normalized_pr_no', 'total_posted', 'total_new_yes', 'norm']]"
   ]
  },
  {
   "cell_type": "code",
   "execution_count": 114,
   "metadata": {},
   "outputs": [],
   "source": [
    "import plotly.plotly as py\n",
    "import plotly.graph_objs as go\n",
    "\n",
    "trace1 = go.Bar(\n",
    "    x=fel_2014['county'],\n",
    "    y=fel_2014['normalized_mon_yes'],\n",
    "    name='Money Bond 2014'\n",
    ")\n",
    "trace2 = go.Bar(\n",
    "    x=fel_2014['county'],\n",
    "    y=fel_2014['normalized_pr_yes'],\n",
    "    name='PR Bond 2014'\n",
    ")\n",
    "trace3 = go.Bar(\n",
    "    x=fel_2015['county'],\n",
    "    y=fel_2015['normalized_mon_yes'],\n",
    "    name='Money Bond 2015'\n",
    ")\n",
    "trace4 = go.Bar(\n",
    "    x=fel_2015['county'],\n",
    "    y=fel_2015['normalized_pr_yes'],\n",
    "    name='PR Bond 2015'\n",
    ")\n",
    "trace5 = go.Bar(\n",
    "    x=fel_2016['county'],\n",
    "    y=fel_2016['normalized_mon_yes'],\n",
    "    name='Money Bond 2016'\n",
    ")\n",
    "trace6 = go.Bar(\n",
    "    x=fel_2016['county'],\n",
    "    y=fel_2016['normalized_pr_yes'],\n",
    "    name='PR Bond 2016'\n",
    ")\n",
    "trace7 = go.Bar(\n",
    "    x=fel_2014['county'],\n",
    "    y=fel_2014['norm'],\n",
    "    name='Recomitted Crimes in 2014'\n",
    ")\n",
    "trace8 = go.Bar(\n",
    "    x=fel_2015['county'],\n",
    "    y=fel_2015['norm'],\n",
    "    name='Recomitted Crimes in 2015'\n",
    ")\n",
    "trace9 = go.Bar(\n",
    "    x=fel_2016['county'],\n",
    "    y=fel_2016['norm'],\n",
    "    name='Recomitted Crimes in 2016'\n",
    ")\n",
    "\n"
   ]
  },
  {
   "cell_type": "code",
   "execution_count": 115,
   "metadata": {},
   "outputs": [
    {
     "data": {
      "text/html": [
       "<iframe id=\"igraph\" scrolling=\"no\" style=\"border:none;\" seamless=\"seamless\" src=\"https://plot.ly/~thechange/32.embed\" height=\"525px\" width=\"100%\"></iframe>"
      ],
      "text/plain": [
       "<plotly.tools.PlotlyDisplay object>"
      ]
     },
     "execution_count": 115,
     "metadata": {},
     "output_type": "execute_result"
    }
   ],
   "source": [
    "data = [trace1, trace2]\n",
    "layout = go.Layout(\n",
    "    barmode='group',\n",
    "    title='Money Bond vs PR Bond 2014 (Felony)',\n",
    "    xaxis=dict(\n",
    "        title='Counties',\n",
    "        titlefont=dict(\n",
    "            family='Courier New, monospace',\n",
    "            size=18,\n",
    "            color='#7f7f7f'\n",
    "        )\n",
    "    ),\n",
    "    yaxis=dict(\n",
    "        title='% Crime Recommit Count',\n",
    "        titlefont=dict(\n",
    "            family='Courier New, monospace',\n",
    "            size=18,\n",
    "            color='#7f7f7f'\n",
    "        )\n",
    "    )\n",
    ")\n",
    "fig1 = go.Figure(data=data, layout=layout)\n",
    "py.iplot(fig1, filename='FP14')"
   ]
  },
  {
   "cell_type": "code",
   "execution_count": 116,
   "metadata": {},
   "outputs": [
    {
     "data": {
      "text/html": [
       "<iframe id=\"igraph\" scrolling=\"no\" style=\"border:none;\" seamless=\"seamless\" src=\"https://plot.ly/~thechange/34.embed\" height=\"525px\" width=\"100%\"></iframe>"
      ],
      "text/plain": [
       "<plotly.tools.PlotlyDisplay object>"
      ]
     },
     "execution_count": 116,
     "metadata": {},
     "output_type": "execute_result"
    }
   ],
   "source": [
    "data = [trace3, trace4]\n",
    "layout = go.Layout(\n",
    "    barmode='group',\n",
    "    title='Money Bond vs PR Bond 2015 (Felony)',\n",
    "    xaxis=dict(\n",
    "        title='Counties',\n",
    "        titlefont=dict(\n",
    "            family='Courier New, monospace',\n",
    "            size=18,\n",
    "            color='#7f7f7f'\n",
    "        )\n",
    "    ),\n",
    "    yaxis=dict(\n",
    "        title='% Crime Recommit Count',\n",
    "        titlefont=dict(\n",
    "            family='Courier New, monospace',\n",
    "            size=18,\n",
    "            color='#7f7f7f'\n",
    "        )\n",
    "    )\n",
    ")\n",
    "\n",
    "fig1 = go.Figure(data=data, layout=layout)\n",
    "py.iplot(fig1, filename='FP15')"
   ]
  },
  {
   "cell_type": "code",
   "execution_count": 120,
   "metadata": {},
   "outputs": [
    {
     "data": {
      "text/html": [
       "<iframe id=\"igraph\" scrolling=\"no\" style=\"border:none;\" seamless=\"seamless\" src=\"https://plot.ly/~thechange/36.embed\" height=\"525px\" width=\"100%\"></iframe>"
      ],
      "text/plain": [
       "<plotly.tools.PlotlyDisplay object>"
      ]
     },
     "execution_count": 120,
     "metadata": {},
     "output_type": "execute_result"
    }
   ],
   "source": [
    "data = [trace5, trace6]\n",
    "layout = go.Layout(\n",
    "    barmode='group',\n",
    "    title='Money Bond vs PR Bond 2016 (Felony)',\n",
    "    xaxis=dict(\n",
    "        title='Counties',\n",
    "        titlefont=dict(\n",
    "            family='Courier New, monospace',\n",
    "            size=18,\n",
    "            color='#7f7f7f'\n",
    "        )\n",
    "    ),\n",
    "    yaxis=dict(\n",
    "        title='% Crime Recommit Count',\n",
    "        titlefont=dict(\n",
    "            family='Courier New, monospace',\n",
    "            size=18,\n",
    "            color='#7f7f7f'\n",
    "        )\n",
    "    )\n",
    ")\n",
    "\n",
    "fig1 = go.Figure(data=data, layout=layout)\n",
    "py.iplot(fig1, filename='FP16')"
   ]
  },
  {
   "cell_type": "markdown",
   "metadata": {},
   "source": [
    "The numbers most definitely makes us question the policy where the freedom of a criminal is not based on his innocence but by the amount of money he has in his pockets. Does the **constitutional principle** of **innocent until proven guilty** only really applies to the well off?"
   ]
  },
  {
   "cell_type": "code",
   "execution_count": null,
   "metadata": {},
   "outputs": [],
   "source": []
  },
  {
   "cell_type": "code",
   "execution_count": null,
   "metadata": {},
   "outputs": [],
   "source": []
  },
  {
   "cell_type": "code",
   "execution_count": 121,
   "metadata": {},
   "outputs": [
    {
     "data": {
      "text/html": [
       "<iframe id=\"igraph\" scrolling=\"no\" style=\"border:none;\" seamless=\"seamless\" src=\"https://plot.ly/~thechange/38.embed\" height=\"525px\" width=\"100%\"></iframe>"
      ],
      "text/plain": [
       "<plotly.tools.PlotlyDisplay object>"
      ]
     },
     "execution_count": 121,
     "metadata": {},
     "output_type": "execute_result"
    }
   ],
   "source": [
    "data = [trace1, trace3, trace5]\n",
    "layout = go.Layout(\n",
    "    barmode='group',\n",
    "    title='Money Bond comparision (Felony)',\n",
    "    xaxis=dict(\n",
    "        title='Counties',\n",
    "        titlefont=dict(\n",
    "            family='Courier New, monospace',\n",
    "            size=18,\n",
    "            color='#7f7f7f'\n",
    "        )\n",
    "    ),\n",
    "    yaxis=dict(\n",
    "        title='% Crime Recommit Count',\n",
    "        titlefont=dict(\n",
    "            family='Courier New, monospace',\n",
    "            size=18,\n",
    "            color='#7f7f7f'\n",
    "        )\n",
    "    )\n",
    ")\n",
    "\n",
    "fig1 = go.Figure(data=data, layout=layout)\n",
    "py.iplot(fig1, filename='FM456')"
   ]
  },
  {
   "cell_type": "code",
   "execution_count": 122,
   "metadata": {},
   "outputs": [
    {
     "data": {
      "text/html": [
       "<iframe id=\"igraph\" scrolling=\"no\" style=\"border:none;\" seamless=\"seamless\" src=\"https://plot.ly/~thechange/40.embed\" height=\"525px\" width=\"100%\"></iframe>"
      ],
      "text/plain": [
       "<plotly.tools.PlotlyDisplay object>"
      ]
     },
     "execution_count": 122,
     "metadata": {},
     "output_type": "execute_result"
    }
   ],
   "source": [
    "data = [trace2, trace4, trace6]\n",
    "layout = go.Layout(\n",
    "    barmode='group',\n",
    "    title='PR Bond comparision (Felony)',\n",
    "    xaxis=dict(\n",
    "        title='Counties',\n",
    "        titlefont=dict(\n",
    "            family='Courier New, monospace',\n",
    "            size=18,\n",
    "            color='#7f7f7f'\n",
    "        )\n",
    "    ),\n",
    "    yaxis=dict(\n",
    "        title='% Crime Recommit Count',\n",
    "        titlefont=dict(\n",
    "            family='Courier New, monospace',\n",
    "            size=18,\n",
    "            color='#7f7f7f'\n",
    "        )\n",
    "    )\n",
    ")\n",
    "fig1 = go.Figure(data=data, layout=layout)\n",
    "py.iplot(fig1, filename='FP456')"
   ]
  },
  {
   "cell_type": "code",
   "execution_count": null,
   "metadata": {},
   "outputs": [],
   "source": []
  },
  {
   "cell_type": "code",
   "execution_count": null,
   "metadata": {},
   "outputs": [],
   "source": []
  },
  {
   "cell_type": "code",
   "execution_count": null,
   "metadata": {},
   "outputs": [],
   "source": []
  }
 ],
 "metadata": {
  "kernelspec": {
   "display_name": "Python 3",
   "language": "python",
   "name": "python3"
  },
  "language_info": {
   "codemirror_mode": {
    "name": "ipython",
    "version": 3
   },
   "file_extension": ".py",
   "mimetype": "text/x-python",
   "name": "python",
   "nbconvert_exporter": "python",
   "pygments_lexer": "ipython3",
   "version": "3.6.5"
  }
 },
 "nbformat": 4,
 "nbformat_minor": 2
}
